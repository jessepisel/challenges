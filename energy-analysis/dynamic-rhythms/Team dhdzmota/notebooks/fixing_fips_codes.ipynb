{
 "cells": [
  {
   "cell_type": "markdown",
   "id": "3a3b2692-42b8-4f29-84ec-df04a8cf596e",
   "metadata": {},
   "source": [
    "# Fixing FIPS codes in Storm Dataset\n",
    "\n",
    "This notebook will serve to see how to fix the fpid problem in \"Storm\" dataframe, \n",
    "which was found to have fips that are not registered. "
   ]
  },
  {
   "cell_type": "markdown",
   "id": "a70f4fd8-0da3-48da-8e21-499490412678",
   "metadata": {},
   "source": [
    "## Imports"
   ]
  },
  {
   "cell_type": "code",
   "execution_count": 1,
   "id": "190ee3d4-65c6-4414-8b31-b19e2487b861",
   "metadata": {},
   "outputs": [],
   "source": [
    "import geopandas as gpd\n",
    "import pandas as pd\n",
    "import warnings\n",
    "\n",
    "\n",
    "from difflib import SequenceMatcher\n",
    "\n",
    "\n",
    "import utils_dhm as ut"
   ]
  },
  {
   "cell_type": "markdown",
   "id": "af6e78cd-0204-43e8-8f15-9db16fcb90bd",
   "metadata": {},
   "source": [
    "## Constants"
   ]
  },
  {
   "cell_type": "code",
   "execution_count": 6,
   "id": "7723980e-3fcf-4cb6-8936-94f6b5aa6198",
   "metadata": {},
   "outputs": [],
   "source": [
    "FIPS_PATH = '../data/external/cb_2018_us_county_5m/cb_2018_us_county_5m.shp'\n",
    "FIPS_PATH = '../data/external/counties_raw/cb_2023_us_county_5m.shp'\n",
    "EAGLEI_DATA_PATH = '../data/raw/dynamic-rhythms-train-data/data/eaglei_data/'\n",
    "NOAA_DATA_PATH = '../data/raw/dynamic-rhythms-train-data/data/NOAA_StormEvents/'\n",
    "STORM_EVENTS_PATH = f'{NOAA_DATA_PATH}StormEvents_2014_2024.csv'\n",
    "\n",
    "WORD_SIMILARITY_THRESHOLD = 0.8"
   ]
  },
  {
   "cell_type": "markdown",
   "id": "901a29bd-5e4a-41d3-83d2-bfd71d41c79f",
   "metadata": {},
   "source": [
    "## Configuration"
   ]
  },
  {
   "cell_type": "code",
   "execution_count": 7,
   "id": "035993ee-ce0d-44d8-acd8-8b16959b79b7",
   "metadata": {},
   "outputs": [],
   "source": [
    "pd.set_option('display.max_columns', 100)\n",
    "pd.set_option('display.max_rows', 100)\n",
    "\n",
    "warnings.filterwarnings('ignore')"
   ]
  },
  {
   "cell_type": "markdown",
   "id": "3ff6e230-cab5-4b43-bc0b-5032658b39c6",
   "metadata": {},
   "source": [
    "## Functions"
   ]
  },
  {
   "cell_type": "code",
   "execution_count": 8,
   "id": "fe8a24c4-a004-46aa-b90d-f78c271926bf",
   "metadata": {},
   "outputs": [],
   "source": [
    "def word_similarity(w1, w2):\n",
    "    similarity = SequenceMatcher(None, w1, w2).ratio()\n",
    "    return similarity"
   ]
  },
  {
   "cell_type": "markdown",
   "id": "bcfc7c37-c911-4528-b22c-dc1a69ee3163",
   "metadata": {},
   "source": [
    "## Read data"
   ]
  },
  {
   "cell_type": "code",
   "execution_count": 9,
   "id": "3ede671f-f413-4c81-ae60-8e804bff0223",
   "metadata": {},
   "outputs": [
    {
     "name": "stdout",
     "output_type": "stream",
     "text": [
      "Done reading.\n"
     ]
    },
    {
     "ename": "IndexError",
     "evalue": "list index out of range",
     "output_type": "error",
     "traceback": [
      "\u001b[0;31m---------------------------------------------------------------------------\u001b[0m",
      "\u001b[0;31mIndexError\u001b[0m                                Traceback (most recent call last)",
      "Cell \u001b[0;32mIn[9], line 2\u001b[0m\n\u001b[1;32m      1\u001b[0m county \u001b[38;5;241m=\u001b[39m gpd\u001b[38;5;241m.\u001b[39mread_file(FIPS_PATH)\n\u001b[0;32m----> 2\u001b[0m outages \u001b[38;5;241m=\u001b[39m \u001b[43mut\u001b[49m\u001b[38;5;241;43m.\u001b[39;49m\u001b[43mget_required_outages_dfs\u001b[49m\u001b[43m(\u001b[49m\u001b[43mEAGLEI_DATA_PATH\u001b[49m\u001b[43m,\u001b[49m\u001b[43m \u001b[49m\u001b[38;5;241;43m2014\u001b[39;49m\u001b[43m,\u001b[49m\u001b[43m \u001b[49m\u001b[38;5;241;43m2015\u001b[39;49m\u001b[43m,\u001b[49m\u001b[43m \u001b[49m\u001b[38;5;241;43m2016\u001b[39;49m\u001b[43m)\u001b[49m\n\u001b[1;32m      3\u001b[0m storm_events \u001b[38;5;241m=\u001b[39m pd\u001b[38;5;241m.\u001b[39mread_csv(STORM_EVENTS_PATH)\n",
      "File \u001b[0;32m/mnt/c/Users/52333/Documents/projects/dynamic-rythms/notebooks/utils_dhm.py:80\u001b[0m, in \u001b[0;36mget_required_outages_dfs\u001b[0;34m(eaglei_data_path, *years)\u001b[0m\n\u001b[1;32m     78\u001b[0m     \u001b[38;5;28;01mdel\u001b[39;00m dfs\n\u001b[1;32m     79\u001b[0m \u001b[38;5;28;01melse\u001b[39;00m:\n\u001b[0;32m---> 80\u001b[0m     outages_df \u001b[38;5;241m=\u001b[39m \u001b[43mdfs\u001b[49m\u001b[43m[\u001b[49m\u001b[38;5;241;43m0\u001b[39;49m\u001b[43m]\u001b[49m\n\u001b[1;32m     81\u001b[0m \u001b[38;5;28mprint\u001b[39m(\u001b[38;5;124m'\u001b[39m\u001b[38;5;124mData is ready.\u001b[39m\u001b[38;5;124m'\u001b[39m)\n\u001b[1;32m     83\u001b[0m \u001b[38;5;28;01mreturn\u001b[39;00m outages_df\n",
      "\u001b[0;31mIndexError\u001b[0m: list index out of range"
     ]
    }
   ],
   "source": [
    "county = gpd.read_file(FIPS_PATH)\n",
    "outages = ut.get_required_outages_dfs(EAGLEI_DATA_PATH, 2014, 2015, 2016)\n",
    "storm_events = pd.read_csv(STORM_EVENTS_PATH)"
   ]
  },
  {
   "cell_type": "markdown",
   "id": "ca5f8e39-1aec-4ff8-a782-5575973589b2",
   "metadata": {},
   "source": [
    "## Visualize Problem"
   ]
  },
  {
   "cell_type": "code",
   "execution_count": 31,
   "id": "a8e63e5d-2afd-4b66-8d17-89779ed25b7e",
   "metadata": {},
   "outputs": [],
   "source": [
    "# The GEOID feature is the fips code for county\n",
    "county['fips'] = county.GEOID\n",
    "fips_code__county_unique = county['fips'].unique()"
   ]
  },
  {
   "cell_type": "code",
   "execution_count": 33,
   "id": "4cc50f96-9a22-44ed-9db9-3907d4215823",
   "metadata": {},
   "outputs": [
    {
     "data": {
      "text/plain": [
       "array(['39071', '06003', '12033', ..., '48247', '29099', '13307'],\n",
       "      shape=(3233,), dtype=object)"
      ]
     },
     "execution_count": 33,
     "metadata": {},
     "output_type": "execute_result"
    }
   ],
   "source": [
    "fips_code__county_unique"
   ]
  },
  {
   "cell_type": "code",
   "execution_count": 34,
   "id": "c9fe934c-cb57-4e24-a87b-43c5fee9c3a5",
   "metadata": {},
   "outputs": [],
   "source": [
    "outages['fips'] = outages.fips_code.astype(str).str.zfill(5)\n",
    "fips_code__outages_unique = outages['fips'].unique()"
   ]
  },
  {
   "cell_type": "code",
   "execution_count": 35,
   "id": "15e2f73f-77db-45f8-867c-67838669904b",
   "metadata": {},
   "outputs": [
    {
     "data": {
      "text/plain": [
       "array(['01037', '01051', '01109', ..., '02290', '38021', '47059'],\n",
       "      shape=(2553,), dtype=object)"
      ]
     },
     "execution_count": 35,
     "metadata": {},
     "output_type": "execute_result"
    }
   ],
   "source": [
    "fips_code__outages_unique"
   ]
  },
  {
   "cell_type": "code",
   "execution_count": 36,
   "id": "60abcf9d-87ce-4159-a52e-82b0c0dcc5d4",
   "metadata": {},
   "outputs": [],
   "source": [
    "storm_events['fips'] = storm_events.STATE_FIPS.astype(str).str.zfill(2) + storm_events.CZ_FIPS.astype(str).str.zfill(3) \n",
    "fips_code__storm_events_unique = storm_events['fips'].unique()"
   ]
  },
  {
   "cell_type": "code",
   "execution_count": 37,
   "id": "417c8668-a107-4807-943d-8cc95367d28c",
   "metadata": {},
   "outputs": [
    {
     "data": {
      "text/plain": [
       "array(['33012', '25017', '29067', ..., '02823', '02813', '02807'],\n",
       "      shape=(6105,), dtype=object)"
      ]
     },
     "execution_count": 37,
     "metadata": {},
     "output_type": "execute_result"
    }
   ],
   "source": [
    "fips_code__storm_events_unique"
   ]
  },
  {
   "cell_type": "code",
   "execution_count": 38,
   "id": "e9626136-8646-4f28-8fcc-ffcc23d47503",
   "metadata": {},
   "outputs": [
    {
     "data": {
      "text/plain": [
       "0"
      ]
     },
     "execution_count": 38,
     "metadata": {},
     "output_type": "execute_result"
    }
   ],
   "source": [
    "### Outages minus official\n",
    "len(set(fips_code__outages_unique) - set(fips_code__county_unique)) # Outage contains all the official fips"
   ]
  },
  {
   "cell_type": "code",
   "execution_count": 39,
   "id": "b0fecbb1-ba63-46e0-b955-1329597156eb",
   "metadata": {},
   "outputs": [
    {
     "data": {
      "text/plain": [
       "2989"
      ]
     },
     "execution_count": 39,
     "metadata": {},
     "output_type": "execute_result"
    }
   ],
   "source": [
    "### Storm events minus official\n",
    "len(set(fips_code__storm_events_unique) - set(fips_code__county_unique)) # There are about 3K of un-official fips. \n",
    "\n",
    "# Assumption: These 3K unofficial fips are typos or mistakes. "
   ]
  },
  {
   "cell_type": "markdown",
   "id": "5d39eb71-414d-4fe9-bb64-cbe4cc5bb984",
   "metadata": {},
   "source": [
    "## Solve problem"
   ]
  },
  {
   "cell_type": "code",
   "execution_count": 45,
   "id": "fe51f6f4-2969-4c00-b843-11e669a7b114",
   "metadata": {},
   "outputs": [],
   "source": [
    "county_columns = ['STATEFP', 'fips', 'NAME']\n",
    "county_sol = county[county_columns].sample(3)"
   ]
  },
  {
   "cell_type": "code",
   "execution_count": 51,
   "id": "2151c1e7-602b-4c1c-8847-164f393f0b16",
   "metadata": {},
   "outputs": [],
   "source": [
    "county_columns = ['STATEFP', 'fips', 'NAME']\n",
    "county_sol = county[county_columns].drop_duplicates()"
   ]
  },
  {
   "cell_type": "code",
   "execution_count": 52,
   "id": "1fc5a1a7-f406-4e79-8ebd-c0ebdf2d2d7a",
   "metadata": {},
   "outputs": [],
   "source": [
    "se_columns = ['STATE_FIPS', 'fips', 'CZ_NAME']\n",
    "storm_sol = storm_events[se_columns].drop_duplicates()"
   ]
  },
  {
   "cell_type": "code",
   "execution_count": 55,
   "id": "0109a1e2-6ff8-4db4-9b22-178ec76b9977",
   "metadata": {},
   "outputs": [],
   "source": [
    "storm_sol['STATEFP'] = storm_sol['STATE_FIPS'].astype(str).str.zfill(2)\n",
    "storm_sol.drop('STATE_FIPS', axis=1, inplace=True)"
   ]
  },
  {
   "cell_type": "code",
   "execution_count": 106,
   "id": "6ee4b7aa-c68f-4db4-8b86-b5501647d0d3",
   "metadata": {},
   "outputs": [],
   "source": [
    "solved_storm_sol = []\n",
    "for state in county_sol.STATEFP.unique():\n",
    "    county_sol_state = county_sol[county_sol.STATEFP==state]\n",
    "    storm_sol_state = storm_sol[storm_sol.STATEFP==state]\n",
    "    official_fips = county_sol_state.set_index('fips').NAME.to_dict()\n",
    "    if storm_sol_state.shape[0] > 0:\n",
    "        for fips_id, name in official_fips.items():\n",
    "            name_condition1 = storm_sol_state.CZ_NAME.str.lower().str.contains(name.lower())\n",
    "            name_condition2 = storm_sol_state.CZ_NAME.str.lower().apply(lambda x: word_similarity(x, name)) > WORD_SIMILARITY_THRESHOLD\n",
    "            storm_sol_state.loc[((name_condition1)|(name_condition2)), 'new_fips'] = fips_id\n",
    "        solved_storm_sol.append(storm_sol_state)"
   ]
  },
  {
   "cell_type": "code",
   "execution_count": 111,
   "id": "b4f0a209-e8f8-42fb-9c60-3103ade082a5",
   "metadata": {},
   "outputs": [],
   "source": [
    "solved_storm_sol_df = pd.concat(solved_storm_sol)\n",
    "solved_storm_sol_df['fips__cz_name'] = solved_storm_sol_df.fips + solved_storm_sol_df.CZ_NAME"
   ]
  },
  {
   "cell_type": "code",
   "execution_count": 114,
   "id": "d33abe0d-bf33-407a-8af1-5cac92547bbc",
   "metadata": {},
   "outputs": [],
   "source": [
    "storm_events['fips__cz_name'] = storm_events.fips + storm_events.CZ_NAME"
   ]
  },
  {
   "cell_type": "code",
   "execution_count": 124,
   "id": "045ffb2e-3e41-4cf3-89c3-9e9fa3d7845c",
   "metadata": {},
   "outputs": [],
   "source": [
    "storm_events_new_fips = storm_events.merge(solved_storm_sol_df[['fips__cz_name', 'new_fips']], on='fips__cz_name', how='left')"
   ]
  },
  {
   "cell_type": "code",
   "execution_count": 126,
   "id": "f72ab834-c687-4475-b9ef-4ad695f5d112",
   "metadata": {},
   "outputs": [],
   "source": [
    "storm_events_new_fips.loc[storm_events_new_fips.new_fips.isna(), 'new_fips'] = storm_events_new_fips.loc[storm_events_new_fips.new_fips.isna()].fips  "
   ]
  },
  {
   "cell_type": "code",
   "execution_count": 129,
   "id": "4ffd67fc-f2f7-4542-9fc3-16f0ed41b378",
   "metadata": {},
   "outputs": [],
   "source": [
    "fips_code__storm_events_new_unique = storm_events_new_fips['new_fips'].unique()"
   ]
  },
  {
   "cell_type": "code",
   "execution_count": 166,
   "id": "1125fd01-db24-4a8e-8e0f-f4b54dd1ca20",
   "metadata": {},
   "outputs": [
    {
     "data": {
      "text/plain": [
       "array(['33011', '25017', '29067', ..., '02823', '02813', '02807'],\n",
       "      shape=(4060,), dtype=object)"
      ]
     },
     "execution_count": 166,
     "metadata": {},
     "output_type": "execute_result"
    }
   ],
   "source": [
    "fips_code__storm_events_new_unique"
   ]
  },
  {
   "cell_type": "code",
   "execution_count": 130,
   "id": "feab101a-a72f-4635-90fd-6b62cfda0e0f",
   "metadata": {},
   "outputs": [
    {
     "data": {
      "text/plain": [
       "967"
      ]
     },
     "execution_count": 130,
     "metadata": {},
     "output_type": "execute_result"
    }
   ],
   "source": [
    "len(set(fips_code__storm_events_new_unique) - set(fips_code__county_unique)) # We have now corrected are about 2K of un-official fips. "
   ]
  },
  {
   "cell_type": "markdown",
   "id": "023e9c5d-a00a-4c67-ba6f-b938828c8d21",
   "metadata": {},
   "source": [
    "## Save solution"
   ]
  },
  {
   "cell_type": "code",
   "execution_count": 169,
   "id": "307068ac-c6dc-4464-8ae6-9a2e0cb19877",
   "metadata": {},
   "outputs": [
    {
     "name": "stdout",
     "output_type": "stream",
     "text": [
      "The history saving thread hit an unexpected error (OperationalError('attempt to write a readonly database')).History will not be written to the database.\n"
     ]
    }
   ],
   "source": [
    "storm_events_new_fips.to_csv('../data/interim/storm_events_cleaned.csv')"
   ]
  },
  {
   "cell_type": "markdown",
   "id": "31b414f2-62e1-44bb-bf87-ebb175e1fae2",
   "metadata": {},
   "source": [
    "## Continuation...?"
   ]
  },
  {
   "cell_type": "code",
   "execution_count": 141,
   "id": "bdca0bac-5284-48a0-9075-cff43dae7112",
   "metadata": {},
   "outputs": [],
   "source": [
    "remaining_steps = storm_events_new_fips[storm_events_new_fips.new_fips.isin(list(set(fips_code__storm_events_new_unique) - set(fips_code__county_unique)))]"
   ]
  },
  {
   "cell_type": "code",
   "execution_count": 145,
   "id": "7a2207dd-dcd7-4251-9d57-6daa1cda5e38",
   "metadata": {},
   "outputs": [],
   "source": [
    "remaining_steps['CZ_NAME2'] = remaining_steps['CZ_NAME'].str.strip() + ' '"
   ]
  },
  {
   "cell_type": "code",
   "execution_count": 150,
   "id": "f27ac4cd-23dd-4fae-b221-730b5459944b",
   "metadata": {},
   "outputs": [],
   "source": [
    "grouped_remainding_steps = remaining_steps.groupby(['STATE_FIPS', 'CZ_FIPS']).CZ_NAME2.sum().reset_index()"
   ]
  },
  {
   "cell_type": "code",
   "execution_count": 161,
   "id": "65bf1ba2-d430-4668-8918-49f84aba2273",
   "metadata": {},
   "outputs": [],
   "source": [
    "grouped_remainding_steps['CZ_NAME_NEW'] = grouped_remainding_steps.CZ_NAME2.str.split(' ').apply(lambda x: [pd.Series(x).mode()])"
   ]
  },
  {
   "cell_type": "code",
   "execution_count": 162,
   "id": "3e1de2fb-ea7a-4c97-b431-0271fc5a70ce",
   "metadata": {},
   "outputs": [
    {
     "data": {
      "text/html": [
       "<div>\n",
       "<style scoped>\n",
       "    .dataframe tbody tr th:only-of-type {\n",
       "        vertical-align: middle;\n",
       "    }\n",
       "\n",
       "    .dataframe tbody tr th {\n",
       "        vertical-align: top;\n",
       "    }\n",
       "\n",
       "    .dataframe thead th {\n",
       "        text-align: right;\n",
       "    }\n",
       "</style>\n",
       "<table border=\"1\" class=\"dataframe\">\n",
       "  <thead>\n",
       "    <tr style=\"text-align: right;\">\n",
       "      <th></th>\n",
       "      <th>STATE_FIPS</th>\n",
       "      <th>CZ_FIPS</th>\n",
       "      <th>CZ_NAME2</th>\n",
       "      <th>CZ_NAME_NEW</th>\n",
       "    </tr>\n",
       "  </thead>\n",
       "  <tbody>\n",
       "    <tr>\n",
       "      <th>0</th>\n",
       "      <td>2</td>\n",
       "      <td>17</td>\n",
       "      <td>CAPE FAIRWEATHER TO CAPE SUCKLING COASTAL AREA...</td>\n",
       "      <td>[[CAPE]]</td>\n",
       "    </tr>\n",
       "    <tr>\n",
       "      <th>1</th>\n",
       "      <td>2</td>\n",
       "      <td>18</td>\n",
       "      <td>TAIYA INLET AND KLONDIKE HIGHWAY TAIYA INLET A...</td>\n",
       "      <td>[[INLET, TAIYA]]</td>\n",
       "    </tr>\n",
       "    <tr>\n",
       "      <th>2</th>\n",
       "      <td>2</td>\n",
       "      <td>21</td>\n",
       "      <td>EASTERN CHICHAGOF ISLAND EASTERN CHICHAGOF ISL...</td>\n",
       "      <td>[[CHICHAGOF, EASTERN, ISLAND]]</td>\n",
       "    </tr>\n",
       "    <tr>\n",
       "      <th>3</th>\n",
       "      <td>2</td>\n",
       "      <td>22</td>\n",
       "      <td>SALISBURY SOUND TO CAPE FAIRWEATHER COASTAL AR...</td>\n",
       "      <td>[[AREA, CAPE, COASTAL, FAIRWEATHER, SALISBURY,...</td>\n",
       "    </tr>\n",
       "    <tr>\n",
       "      <th>4</th>\n",
       "      <td>2</td>\n",
       "      <td>23</td>\n",
       "      <td>CAPE DECISION TO SALISBURY SOUND COASTAL AREA ...</td>\n",
       "      <td>[[AREA, CAPE, COASTAL, DECISION, SALISBURY, SO...</td>\n",
       "    </tr>\n",
       "    <tr>\n",
       "      <th>...</th>\n",
       "      <td>...</td>\n",
       "      <td>...</td>\n",
       "      <td>...</td>\n",
       "      <td>...</td>\n",
       "    </tr>\n",
       "    <tr>\n",
       "      <th>962</th>\n",
       "      <td>99</td>\n",
       "      <td>145</td>\n",
       "      <td>VEGA BAJA VEGA BAJA VEGA BAJA VEGA BAJA VEGA B...</td>\n",
       "      <td>[[BAJA, VEGA]]</td>\n",
       "    </tr>\n",
       "    <tr>\n",
       "      <th>963</th>\n",
       "      <td>99</td>\n",
       "      <td>147</td>\n",
       "      <td>VIEQUES VIEQUES VIEQUES</td>\n",
       "      <td>[[VIEQUES]]</td>\n",
       "    </tr>\n",
       "    <tr>\n",
       "      <th>964</th>\n",
       "      <td>99</td>\n",
       "      <td>149</td>\n",
       "      <td>VILLALBA VILLALBA VILLALBA VILLALBA VILLALBA V...</td>\n",
       "      <td>[[VILLALBA]]</td>\n",
       "    </tr>\n",
       "    <tr>\n",
       "      <th>965</th>\n",
       "      <td>99</td>\n",
       "      <td>151</td>\n",
       "      <td>YABUCOA YABUCOA YABUCOA YABUCOA YABUCOA YABUCO...</td>\n",
       "      <td>[[YABUCOA]]</td>\n",
       "    </tr>\n",
       "    <tr>\n",
       "      <th>966</th>\n",
       "      <td>99</td>\n",
       "      <td>153</td>\n",
       "      <td>YAUCO YAUCO YAUCO YAUCO YAUCO YAUCO YAUCO YAUC...</td>\n",
       "      <td>[[YAUCO]]</td>\n",
       "    </tr>\n",
       "  </tbody>\n",
       "</table>\n",
       "<p>967 rows × 4 columns</p>\n",
       "</div>"
      ],
      "text/plain": [
       "     STATE_FIPS  CZ_FIPS                                           CZ_NAME2  \\\n",
       "0             2       17  CAPE FAIRWEATHER TO CAPE SUCKLING COASTAL AREA...   \n",
       "1             2       18  TAIYA INLET AND KLONDIKE HIGHWAY TAIYA INLET A...   \n",
       "2             2       21  EASTERN CHICHAGOF ISLAND EASTERN CHICHAGOF ISL...   \n",
       "3             2       22  SALISBURY SOUND TO CAPE FAIRWEATHER COASTAL AR...   \n",
       "4             2       23  CAPE DECISION TO SALISBURY SOUND COASTAL AREA ...   \n",
       "..          ...      ...                                                ...   \n",
       "962          99      145  VEGA BAJA VEGA BAJA VEGA BAJA VEGA BAJA VEGA B...   \n",
       "963          99      147                           VIEQUES VIEQUES VIEQUES    \n",
       "964          99      149  VILLALBA VILLALBA VILLALBA VILLALBA VILLALBA V...   \n",
       "965          99      151  YABUCOA YABUCOA YABUCOA YABUCOA YABUCOA YABUCO...   \n",
       "966          99      153  YAUCO YAUCO YAUCO YAUCO YAUCO YAUCO YAUCO YAUC...   \n",
       "\n",
       "                                           CZ_NAME_NEW  \n",
       "0                                             [[CAPE]]  \n",
       "1                                     [[INLET, TAIYA]]  \n",
       "2                       [[CHICHAGOF, EASTERN, ISLAND]]  \n",
       "3    [[AREA, CAPE, COASTAL, FAIRWEATHER, SALISBURY,...  \n",
       "4    [[AREA, CAPE, COASTAL, DECISION, SALISBURY, SO...  \n",
       "..                                                 ...  \n",
       "962                                     [[BAJA, VEGA]]  \n",
       "963                                        [[VIEQUES]]  \n",
       "964                                       [[VILLALBA]]  \n",
       "965                                        [[YABUCOA]]  \n",
       "966                                          [[YAUCO]]  \n",
       "\n",
       "[967 rows x 4 columns]"
      ]
     },
     "execution_count": 162,
     "metadata": {},
     "output_type": "execute_result"
    }
   ],
   "source": [
    "grouped_remainding_steps"
   ]
  },
  {
   "cell_type": "code",
   "execution_count": 165,
   "id": "4b708313-bd24-4251-9622-e0fd93b8d74b",
   "metadata": {},
   "outputs": [
    {
     "data": {
      "text/html": [
       "<div>\n",
       "<style scoped>\n",
       "    .dataframe tbody tr th:only-of-type {\n",
       "        vertical-align: middle;\n",
       "    }\n",
       "\n",
       "    .dataframe tbody tr th {\n",
       "        vertical-align: top;\n",
       "    }\n",
       "\n",
       "    .dataframe thead th {\n",
       "        text-align: right;\n",
       "    }\n",
       "</style>\n",
       "<table border=\"1\" class=\"dataframe\">\n",
       "  <thead>\n",
       "    <tr style=\"text-align: right;\">\n",
       "      <th></th>\n",
       "      <th>STATEFP</th>\n",
       "      <th>COUNTYFP</th>\n",
       "      <th>COUNTYNS</th>\n",
       "      <th>AFFGEOID</th>\n",
       "      <th>GEOID</th>\n",
       "      <th>NAME</th>\n",
       "      <th>LSAD</th>\n",
       "      <th>ALAND</th>\n",
       "      <th>AWATER</th>\n",
       "      <th>geometry</th>\n",
       "      <th>fips</th>\n",
       "    </tr>\n",
       "  </thead>\n",
       "  <tbody>\n",
       "    <tr>\n",
       "      <th>2115</th>\n",
       "      <td>02</td>\n",
       "      <td>013</td>\n",
       "      <td>01419964</td>\n",
       "      <td>0500000US02013</td>\n",
       "      <td>02013</td>\n",
       "      <td>Aleutians East</td>\n",
       "      <td>04</td>\n",
       "      <td>18091255385</td>\n",
       "      <td>20800268276</td>\n",
       "      <td>MULTIPOLYGON (((-159.32073 54.89727, -159.3135...</td>\n",
       "      <td>02013</td>\n",
       "    </tr>\n",
       "    <tr>\n",
       "      <th>205</th>\n",
       "      <td>02</td>\n",
       "      <td>016</td>\n",
       "      <td>01419965</td>\n",
       "      <td>0500000US02016</td>\n",
       "      <td>02016</td>\n",
       "      <td>Aleutians West</td>\n",
       "      <td>05</td>\n",
       "      <td>11375510886</td>\n",
       "      <td>25186009907</td>\n",
       "      <td>MULTIPOLYGON (((179.48246 51.98283, 179.48656 ...</td>\n",
       "      <td>02016</td>\n",
       "    </tr>\n",
       "    <tr>\n",
       "      <th>1078</th>\n",
       "      <td>02</td>\n",
       "      <td>020</td>\n",
       "      <td>01416061</td>\n",
       "      <td>0500000US02020</td>\n",
       "      <td>02020</td>\n",
       "      <td>Anchorage</td>\n",
       "      <td>12</td>\n",
       "      <td>4419562836</td>\n",
       "      <td>615500204</td>\n",
       "      <td>MULTIPOLYGON (((-150.068 61.16613, -150.00994 ...</td>\n",
       "      <td>02020</td>\n",
       "    </tr>\n",
       "    <tr>\n",
       "      <th>402</th>\n",
       "      <td>02</td>\n",
       "      <td>050</td>\n",
       "      <td>01419966</td>\n",
       "      <td>0500000US02050</td>\n",
       "      <td>02050</td>\n",
       "      <td>Bethel</td>\n",
       "      <td>05</td>\n",
       "      <td>105228817205</td>\n",
       "      <td>12768645652</td>\n",
       "      <td>MULTIPOLYGON (((-165.41979 60.55242, -165.4151...</td>\n",
       "      <td>02050</td>\n",
       "    </tr>\n",
       "    <tr>\n",
       "      <th>2122</th>\n",
       "      <td>02</td>\n",
       "      <td>060</td>\n",
       "      <td>01419967</td>\n",
       "      <td>0500000US02060</td>\n",
       "      <td>02060</td>\n",
       "      <td>Bristol Bay</td>\n",
       "      <td>04</td>\n",
       "      <td>1248324005</td>\n",
       "      <td>949768219</td>\n",
       "      <td>POLYGON ((-157.25146 58.62079, -157.17883 58.6...</td>\n",
       "      <td>02060</td>\n",
       "    </tr>\n",
       "    <tr>\n",
       "      <th>3054</th>\n",
       "      <td>02</td>\n",
       "      <td>068</td>\n",
       "      <td>01419988</td>\n",
       "      <td>0500000US02068</td>\n",
       "      <td>02068</td>\n",
       "      <td>Denali</td>\n",
       "      <td>04</td>\n",
       "      <td>32729577065</td>\n",
       "      <td>66105677</td>\n",
       "      <td>POLYGON ((-152.99765 62.7274, -152.68015 62.98...</td>\n",
       "      <td>02068</td>\n",
       "    </tr>\n",
       "    <tr>\n",
       "      <th>1383</th>\n",
       "      <td>02</td>\n",
       "      <td>070</td>\n",
       "      <td>01419968</td>\n",
       "      <td>0500000US02070</td>\n",
       "      <td>02070</td>\n",
       "      <td>Dillingham</td>\n",
       "      <td>05</td>\n",
       "      <td>47478023796</td>\n",
       "      <td>5950680491</td>\n",
       "      <td>MULTIPOLYGON (((-160.31736 58.69431, -160.3083...</td>\n",
       "      <td>02070</td>\n",
       "    </tr>\n",
       "    <tr>\n",
       "      <th>341</th>\n",
       "      <td>02</td>\n",
       "      <td>090</td>\n",
       "      <td>01419969</td>\n",
       "      <td>0500000US02090</td>\n",
       "      <td>02090</td>\n",
       "      <td>Fairbanks North Star</td>\n",
       "      <td>04</td>\n",
       "      <td>18983364355</td>\n",
       "      <td>273047179</td>\n",
       "      <td>POLYGON ((-148.64821 64.59733, -148.64822 64.6...</td>\n",
       "      <td>02090</td>\n",
       "    </tr>\n",
       "    <tr>\n",
       "      <th>11</th>\n",
       "      <td>02</td>\n",
       "      <td>100</td>\n",
       "      <td>01419970</td>\n",
       "      <td>0500000US02100</td>\n",
       "      <td>02100</td>\n",
       "      <td>Haines</td>\n",
       "      <td>04</td>\n",
       "      <td>6059513753</td>\n",
       "      <td>1051059522</td>\n",
       "      <td>MULTIPOLYGON (((-135.34934 59.02003, -135.3303...</td>\n",
       "      <td>02100</td>\n",
       "    </tr>\n",
       "    <tr>\n",
       "      <th>698</th>\n",
       "      <td>02</td>\n",
       "      <td>105</td>\n",
       "      <td>02371430</td>\n",
       "      <td>0500000US02105</td>\n",
       "      <td>02105</td>\n",
       "      <td>Hoonah-Angoon</td>\n",
       "      <td>05</td>\n",
       "      <td>16981566503</td>\n",
       "      <td>7801359160</td>\n",
       "      <td>MULTIPOLYGON (((-133.59854 57.86028, -133.1769...</td>\n",
       "      <td>02105</td>\n",
       "    </tr>\n",
       "    <tr>\n",
       "      <th>2113</th>\n",
       "      <td>02</td>\n",
       "      <td>110</td>\n",
       "      <td>01419971</td>\n",
       "      <td>0500000US02110</td>\n",
       "      <td>02110</td>\n",
       "      <td>Juneau</td>\n",
       "      <td>03</td>\n",
       "      <td>7002973758</td>\n",
       "      <td>1426663852</td>\n",
       "      <td>MULTIPOLYGON (((-134.76944 58.1229, -134.77273...</td>\n",
       "      <td>02110</td>\n",
       "    </tr>\n",
       "    <tr>\n",
       "      <th>3153</th>\n",
       "      <td>02</td>\n",
       "      <td>122</td>\n",
       "      <td>01419972</td>\n",
       "      <td>0500000US02122</td>\n",
       "      <td>02122</td>\n",
       "      <td>Kenai Peninsula</td>\n",
       "      <td>04</td>\n",
       "      <td>41500185165</td>\n",
       "      <td>22525337842</td>\n",
       "      <td>MULTIPOLYGON (((-150.77224 59.33301, -150.7427...</td>\n",
       "      <td>02122</td>\n",
       "    </tr>\n",
       "    <tr>\n",
       "      <th>406</th>\n",
       "      <td>02</td>\n",
       "      <td>130</td>\n",
       "      <td>01419973</td>\n",
       "      <td>0500000US02130</td>\n",
       "      <td>02130</td>\n",
       "      <td>Ketchikan Gateway</td>\n",
       "      <td>04</td>\n",
       "      <td>12579243763</td>\n",
       "      <td>4651750442</td>\n",
       "      <td>MULTIPOLYGON (((-131.24119 55.09255, -131.2072...</td>\n",
       "      <td>02130</td>\n",
       "    </tr>\n",
       "    <tr>\n",
       "      <th>2123</th>\n",
       "      <td>02</td>\n",
       "      <td>150</td>\n",
       "      <td>01419974</td>\n",
       "      <td>0500000US02150</td>\n",
       "      <td>02150</td>\n",
       "      <td>Kodiak Island</td>\n",
       "      <td>04</td>\n",
       "      <td>17133720200</td>\n",
       "      <td>14166823224</td>\n",
       "      <td>MULTIPOLYGON (((-151.8885 58.21942, -151.86232...</td>\n",
       "      <td>02150</td>\n",
       "    </tr>\n",
       "    <tr>\n",
       "      <th>571</th>\n",
       "      <td>02</td>\n",
       "      <td>158</td>\n",
       "      <td>01419985</td>\n",
       "      <td>0500000US02158</td>\n",
       "      <td>02158</td>\n",
       "      <td>Kusilvak</td>\n",
       "      <td>05</td>\n",
       "      <td>44221226622</td>\n",
       "      <td>6694349084</td>\n",
       "      <td>POLYGON ((-166.18269 61.58848, -166.15898 61.7...</td>\n",
       "      <td>02158</td>\n",
       "    </tr>\n",
       "    <tr>\n",
       "      <th>251</th>\n",
       "      <td>02</td>\n",
       "      <td>164</td>\n",
       "      <td>01419975</td>\n",
       "      <td>0500000US02164</td>\n",
       "      <td>02164</td>\n",
       "      <td>Lake and Peninsula</td>\n",
       "      <td>04</td>\n",
       "      <td>61893966490</td>\n",
       "      <td>25992281749</td>\n",
       "      <td>MULTIPOLYGON (((-157.32611 56.54038, -157.2986...</td>\n",
       "      <td>02164</td>\n",
       "    </tr>\n",
       "    <tr>\n",
       "      <th>2325</th>\n",
       "      <td>02</td>\n",
       "      <td>170</td>\n",
       "      <td>01419976</td>\n",
       "      <td>0500000US02170</td>\n",
       "      <td>02170</td>\n",
       "      <td>Matanuska-Susitna</td>\n",
       "      <td>04</td>\n",
       "      <td>64008421559</td>\n",
       "      <td>1456871464</td>\n",
       "      <td>POLYGON ((-153.00151 62.72744, -152.99765 62.7...</td>\n",
       "      <td>02170</td>\n",
       "    </tr>\n",
       "    <tr>\n",
       "      <th>348</th>\n",
       "      <td>02</td>\n",
       "      <td>180</td>\n",
       "      <td>01419977</td>\n",
       "      <td>0500000US02180</td>\n",
       "      <td>02180</td>\n",
       "      <td>Nome</td>\n",
       "      <td>05</td>\n",
       "      <td>59497122355</td>\n",
       "      <td>13774270048</td>\n",
       "      <td>MULTIPOLYGON (((-162.68263 63.58407, -162.6445...</td>\n",
       "      <td>02180</td>\n",
       "    </tr>\n",
       "    <tr>\n",
       "      <th>538</th>\n",
       "      <td>02</td>\n",
       "      <td>185</td>\n",
       "      <td>01419978</td>\n",
       "      <td>0500000US02185</td>\n",
       "      <td>02185</td>\n",
       "      <td>North Slope</td>\n",
       "      <td>04</td>\n",
       "      <td>230054122583</td>\n",
       "      <td>15549060273</td>\n",
       "      <td>POLYGON ((-166.79607 68.35407, -166.70614 68.3...</td>\n",
       "      <td>02185</td>\n",
       "    </tr>\n",
       "    <tr>\n",
       "      <th>621</th>\n",
       "      <td>02</td>\n",
       "      <td>188</td>\n",
       "      <td>01419979</td>\n",
       "      <td>0500000US02188</td>\n",
       "      <td>02188</td>\n",
       "      <td>Northwest Arctic</td>\n",
       "      <td>04</td>\n",
       "      <td>92329079390</td>\n",
       "      <td>12875662550</td>\n",
       "      <td>POLYGON ((-165.38657 68.03473, -164.49944 68.0...</td>\n",
       "      <td>02188</td>\n",
       "    </tr>\n",
       "    <tr>\n",
       "      <th>223</th>\n",
       "      <td>02</td>\n",
       "      <td>195</td>\n",
       "      <td>02516404</td>\n",
       "      <td>0500000US02195</td>\n",
       "      <td>02195</td>\n",
       "      <td>Petersburg</td>\n",
       "      <td>04</td>\n",
       "      <td>7512557785</td>\n",
       "      <td>2385954337</td>\n",
       "      <td>MULTIPOLYGON (((-133.57492 56.76118, -133.5657...</td>\n",
       "      <td>02195</td>\n",
       "    </tr>\n",
       "    <tr>\n",
       "      <th>764</th>\n",
       "      <td>02</td>\n",
       "      <td>198</td>\n",
       "      <td>01419980</td>\n",
       "      <td>0500000US02198</td>\n",
       "      <td>02198</td>\n",
       "      <td>Prince of Wales-Hyder</td>\n",
       "      <td>05</td>\n",
       "      <td>13630515350</td>\n",
       "      <td>14624992705</td>\n",
       "      <td>MULTIPOLYGON (((-130.38343 55.95701, -130.3520...</td>\n",
       "      <td>02198</td>\n",
       "    </tr>\n",
       "    <tr>\n",
       "      <th>671</th>\n",
       "      <td>02</td>\n",
       "      <td>220</td>\n",
       "      <td>01419981</td>\n",
       "      <td>0500000US02220</td>\n",
       "      <td>02220</td>\n",
       "      <td>Sitka</td>\n",
       "      <td>03</td>\n",
       "      <td>7433305216</td>\n",
       "      <td>5037858065</td>\n",
       "      <td>MULTIPOLYGON (((-135.69512 57.36308, -135.6877...</td>\n",
       "      <td>02220</td>\n",
       "    </tr>\n",
       "    <tr>\n",
       "      <th>429</th>\n",
       "      <td>02</td>\n",
       "      <td>230</td>\n",
       "      <td>02339479</td>\n",
       "      <td>0500000US02230</td>\n",
       "      <td>02230</td>\n",
       "      <td>Skagway</td>\n",
       "      <td>12</td>\n",
       "      <td>1123881121</td>\n",
       "      <td>28784118</td>\n",
       "      <td>POLYGON ((-135.7066 59.7331, -135.47916 59.798...</td>\n",
       "      <td>02230</td>\n",
       "    </tr>\n",
       "    <tr>\n",
       "      <th>507</th>\n",
       "      <td>02</td>\n",
       "      <td>240</td>\n",
       "      <td>01419983</td>\n",
       "      <td>0500000US02240</td>\n",
       "      <td>02240</td>\n",
       "      <td>Southeast Fairbanks</td>\n",
       "      <td>05</td>\n",
       "      <td>64290686975</td>\n",
       "      <td>751965527</td>\n",
       "      <td>POLYGON ((-146.99993 63.85976, -146.99991 64.2...</td>\n",
       "      <td>02240</td>\n",
       "    </tr>\n",
       "    <tr>\n",
       "      <th>773</th>\n",
       "      <td>02</td>\n",
       "      <td>261</td>\n",
       "      <td>01419984</td>\n",
       "      <td>0500000US02261</td>\n",
       "      <td>02261</td>\n",
       "      <td>Valdez-Cordova</td>\n",
       "      <td>05</td>\n",
       "      <td>88634324631</td>\n",
       "      <td>15756537958</td>\n",
       "      <td>MULTIPOLYGON (((-145.65722 60.36792, -145.5882...</td>\n",
       "      <td>02261</td>\n",
       "    </tr>\n",
       "    <tr>\n",
       "      <th>163</th>\n",
       "      <td>02</td>\n",
       "      <td>275</td>\n",
       "      <td>02516402</td>\n",
       "      <td>0500000US02275</td>\n",
       "      <td>02275</td>\n",
       "      <td>Wrangell</td>\n",
       "      <td>03</td>\n",
       "      <td>6619997013</td>\n",
       "      <td>2384375232</td>\n",
       "      <td>MULTIPOLYGON (((-132.65274 56.4829, -132.64917...</td>\n",
       "      <td>02275</td>\n",
       "    </tr>\n",
       "    <tr>\n",
       "      <th>2294</th>\n",
       "      <td>02</td>\n",
       "      <td>282</td>\n",
       "      <td>01419986</td>\n",
       "      <td>0500000US02282</td>\n",
       "      <td>02282</td>\n",
       "      <td>Yakutat</td>\n",
       "      <td>03</td>\n",
       "      <td>19744199346</td>\n",
       "      <td>3986129001</td>\n",
       "      <td>POLYGON ((-143.89332 60.02417, -143.43894 60.3...</td>\n",
       "      <td>02282</td>\n",
       "    </tr>\n",
       "    <tr>\n",
       "      <th>780</th>\n",
       "      <td>02</td>\n",
       "      <td>290</td>\n",
       "      <td>01419987</td>\n",
       "      <td>0500000US02290</td>\n",
       "      <td>02290</td>\n",
       "      <td>Yukon-Koyukuk</td>\n",
       "      <td>05</td>\n",
       "      <td>377034650847</td>\n",
       "      <td>5949465694</td>\n",
       "      <td>POLYGON ((-161.04818 62.55241, -160.9962 62.55...</td>\n",
       "      <td>02290</td>\n",
       "    </tr>\n",
       "  </tbody>\n",
       "</table>\n",
       "</div>"
      ],
      "text/plain": [
       "     STATEFP COUNTYFP  COUNTYNS        AFFGEOID  GEOID                   NAME  \\\n",
       "2115      02      013  01419964  0500000US02013  02013         Aleutians East   \n",
       "205       02      016  01419965  0500000US02016  02016         Aleutians West   \n",
       "1078      02      020  01416061  0500000US02020  02020              Anchorage   \n",
       "402       02      050  01419966  0500000US02050  02050                 Bethel   \n",
       "2122      02      060  01419967  0500000US02060  02060            Bristol Bay   \n",
       "3054      02      068  01419988  0500000US02068  02068                 Denali   \n",
       "1383      02      070  01419968  0500000US02070  02070             Dillingham   \n",
       "341       02      090  01419969  0500000US02090  02090   Fairbanks North Star   \n",
       "11        02      100  01419970  0500000US02100  02100                 Haines   \n",
       "698       02      105  02371430  0500000US02105  02105          Hoonah-Angoon   \n",
       "2113      02      110  01419971  0500000US02110  02110                 Juneau   \n",
       "3153      02      122  01419972  0500000US02122  02122        Kenai Peninsula   \n",
       "406       02      130  01419973  0500000US02130  02130      Ketchikan Gateway   \n",
       "2123      02      150  01419974  0500000US02150  02150          Kodiak Island   \n",
       "571       02      158  01419985  0500000US02158  02158               Kusilvak   \n",
       "251       02      164  01419975  0500000US02164  02164     Lake and Peninsula   \n",
       "2325      02      170  01419976  0500000US02170  02170      Matanuska-Susitna   \n",
       "348       02      180  01419977  0500000US02180  02180                   Nome   \n",
       "538       02      185  01419978  0500000US02185  02185            North Slope   \n",
       "621       02      188  01419979  0500000US02188  02188       Northwest Arctic   \n",
       "223       02      195  02516404  0500000US02195  02195             Petersburg   \n",
       "764       02      198  01419980  0500000US02198  02198  Prince of Wales-Hyder   \n",
       "671       02      220  01419981  0500000US02220  02220                  Sitka   \n",
       "429       02      230  02339479  0500000US02230  02230                Skagway   \n",
       "507       02      240  01419983  0500000US02240  02240    Southeast Fairbanks   \n",
       "773       02      261  01419984  0500000US02261  02261         Valdez-Cordova   \n",
       "163       02      275  02516402  0500000US02275  02275               Wrangell   \n",
       "2294      02      282  01419986  0500000US02282  02282                Yakutat   \n",
       "780       02      290  01419987  0500000US02290  02290          Yukon-Koyukuk   \n",
       "\n",
       "     LSAD         ALAND       AWATER  \\\n",
       "2115   04   18091255385  20800268276   \n",
       "205    05   11375510886  25186009907   \n",
       "1078   12    4419562836    615500204   \n",
       "402    05  105228817205  12768645652   \n",
       "2122   04    1248324005    949768219   \n",
       "3054   04   32729577065     66105677   \n",
       "1383   05   47478023796   5950680491   \n",
       "341    04   18983364355    273047179   \n",
       "11     04    6059513753   1051059522   \n",
       "698    05   16981566503   7801359160   \n",
       "2113   03    7002973758   1426663852   \n",
       "3153   04   41500185165  22525337842   \n",
       "406    04   12579243763   4651750442   \n",
       "2123   04   17133720200  14166823224   \n",
       "571    05   44221226622   6694349084   \n",
       "251    04   61893966490  25992281749   \n",
       "2325   04   64008421559   1456871464   \n",
       "348    05   59497122355  13774270048   \n",
       "538    04  230054122583  15549060273   \n",
       "621    04   92329079390  12875662550   \n",
       "223    04    7512557785   2385954337   \n",
       "764    05   13630515350  14624992705   \n",
       "671    03    7433305216   5037858065   \n",
       "429    12    1123881121     28784118   \n",
       "507    05   64290686975    751965527   \n",
       "773    05   88634324631  15756537958   \n",
       "163    03    6619997013   2384375232   \n",
       "2294   03   19744199346   3986129001   \n",
       "780    05  377034650847   5949465694   \n",
       "\n",
       "                                               geometry   fips  \n",
       "2115  MULTIPOLYGON (((-159.32073 54.89727, -159.3135...  02013  \n",
       "205   MULTIPOLYGON (((179.48246 51.98283, 179.48656 ...  02016  \n",
       "1078  MULTIPOLYGON (((-150.068 61.16613, -150.00994 ...  02020  \n",
       "402   MULTIPOLYGON (((-165.41979 60.55242, -165.4151...  02050  \n",
       "2122  POLYGON ((-157.25146 58.62079, -157.17883 58.6...  02060  \n",
       "3054  POLYGON ((-152.99765 62.7274, -152.68015 62.98...  02068  \n",
       "1383  MULTIPOLYGON (((-160.31736 58.69431, -160.3083...  02070  \n",
       "341   POLYGON ((-148.64821 64.59733, -148.64822 64.6...  02090  \n",
       "11    MULTIPOLYGON (((-135.34934 59.02003, -135.3303...  02100  \n",
       "698   MULTIPOLYGON (((-133.59854 57.86028, -133.1769...  02105  \n",
       "2113  MULTIPOLYGON (((-134.76944 58.1229, -134.77273...  02110  \n",
       "3153  MULTIPOLYGON (((-150.77224 59.33301, -150.7427...  02122  \n",
       "406   MULTIPOLYGON (((-131.24119 55.09255, -131.2072...  02130  \n",
       "2123  MULTIPOLYGON (((-151.8885 58.21942, -151.86232...  02150  \n",
       "571   POLYGON ((-166.18269 61.58848, -166.15898 61.7...  02158  \n",
       "251   MULTIPOLYGON (((-157.32611 56.54038, -157.2986...  02164  \n",
       "2325  POLYGON ((-153.00151 62.72744, -152.99765 62.7...  02170  \n",
       "348   MULTIPOLYGON (((-162.68263 63.58407, -162.6445...  02180  \n",
       "538   POLYGON ((-166.79607 68.35407, -166.70614 68.3...  02185  \n",
       "621   POLYGON ((-165.38657 68.03473, -164.49944 68.0...  02188  \n",
       "223   MULTIPOLYGON (((-133.57492 56.76118, -133.5657...  02195  \n",
       "764   MULTIPOLYGON (((-130.38343 55.95701, -130.3520...  02198  \n",
       "671   MULTIPOLYGON (((-135.69512 57.36308, -135.6877...  02220  \n",
       "429   POLYGON ((-135.7066 59.7331, -135.47916 59.798...  02230  \n",
       "507   POLYGON ((-146.99993 63.85976, -146.99991 64.2...  02240  \n",
       "773   MULTIPOLYGON (((-145.65722 60.36792, -145.5882...  02261  \n",
       "163   MULTIPOLYGON (((-132.65274 56.4829, -132.64917...  02275  \n",
       "2294  POLYGON ((-143.89332 60.02417, -143.43894 60.3...  02282  \n",
       "780   POLYGON ((-161.04818 62.55241, -160.9962 62.55...  02290  "
      ]
     },
     "execution_count": 165,
     "metadata": {},
     "output_type": "execute_result"
    }
   ],
   "source": [
    "county[county.STATEFP=='02'].sort_values('NAME')\n"
   ]
  },
  {
   "cell_type": "markdown",
   "id": "f20cdffc-7bef-456a-bc31-a13bf9251343",
   "metadata": {},
   "source": [
    "## Conclusión:\n",
    "Se logró reducir approx 60% de los errores de FIPS, clave que se utiliza para realizar la unión entre dataframes (por ahora)."
   ]
  },
  {
   "cell_type": "code",
   "execution_count": null,
   "id": "d5734170-9337-4639-b8c0-ced6d9dfdef5",
   "metadata": {},
   "outputs": [],
   "source": []
  }
 ],
 "metadata": {
  "kernelspec": {
   "display_name": "Python 3 (ipykernel)",
   "language": "python",
   "name": "python3"
  },
  "language_info": {
   "codemirror_mode": {
    "name": "ipython",
    "version": 3
   },
   "file_extension": ".py",
   "mimetype": "text/x-python",
   "name": "python",
   "nbconvert_exporter": "python",
   "pygments_lexer": "ipython3",
   "version": "3.10.17"
  }
 },
 "nbformat": 4,
 "nbformat_minor": 5
}
