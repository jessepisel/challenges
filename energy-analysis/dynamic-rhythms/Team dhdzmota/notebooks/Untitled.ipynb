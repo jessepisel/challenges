{
 "cells": [
  {
   "cell_type": "code",
   "execution_count": 1,
   "id": "bf657f91-c10e-4713-a788-106236b81fb5",
   "metadata": {},
   "outputs": [],
   "source": [
    "import pandas as pd"
   ]
  },
  {
   "cell_type": "code",
   "execution_count": 5,
   "id": "b185f669-7929-4fcc-a96b-4b77947bbfdf",
   "metadata": {},
   "outputs": [],
   "source": [
    "d1 = pd.read_parquet('../data/interim/storm_outages_2014_2023.parquet')\n",
    "d2 = pd.read_parquet('../data/interim/storm_outages_2014_2023b.parquet')"
   ]
  },
  {
   "cell_type": "code",
   "execution_count": 9,
   "id": "50181940-eaf8-4769-8b7a-aa159fefc933",
   "metadata": {},
   "outputs": [
    {
     "data": {
      "text/plain": [
       "np.float64(0.06497720943230768)"
      ]
     },
     "execution_count": 9,
     "metadata": {},
     "output_type": "execute_result"
    }
   ],
   "source": [
    "d1.storm_caused_outage.mean()\n"
   ]
  },
  {
   "cell_type": "code",
   "execution_count": 10,
   "id": "af44623f-63e7-4fcf-9a1c-4ea0bf2d319c",
   "metadata": {},
   "outputs": [
    {
     "data": {
      "text/plain": [
       "np.float64(0.06530521728230791)"
      ]
     },
     "execution_count": 10,
     "metadata": {},
     "output_type": "execute_result"
    }
   ],
   "source": [
    "d2.storm_caused_outage.mean()\n"
   ]
  },
  {
   "cell_type": "code",
   "execution_count": null,
   "id": "aeb9c6de-b048-4b95-99b6-897dd6cfb21a",
   "metadata": {},
   "outputs": [],
   "source": []
  }
 ],
 "metadata": {
  "kernelspec": {
   "display_name": "Python 3 (ipykernel)",
   "language": "python",
   "name": "python3"
  },
  "language_info": {
   "codemirror_mode": {
    "name": "ipython",
    "version": 3
   },
   "file_extension": ".py",
   "mimetype": "text/x-python",
   "name": "python",
   "nbconvert_exporter": "python",
   "pygments_lexer": "ipython3",
   "version": "3.10.17"
  }
 },
 "nbformat": 4,
 "nbformat_minor": 5
}
